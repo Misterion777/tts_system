{
 "cells": [
  {
   "cell_type": "code",
   "execution_count": 4,
   "metadata": {},
   "outputs": [],
   "source": [
    "import numpy as np"
   ]
  },
  {
   "cell_type": "code",
   "execution_count": 5,
   "metadata": {},
   "outputs": [],
   "source": [
    "data_path = '../data/cmu_dataset/'\n",
    "path = data_path + 'cmudict.txt'\n",
    "WINDOW=5"
   ]
  },
  {
   "cell_type": "markdown",
   "metadata": {},
   "source": [
    "## Phonemes prediction"
   ]
  },
  {
   "cell_type": "markdown",
   "metadata": {},
   "source": [
    "### Data clearing and feature engineering"
   ]
  },
  {
   "cell_type": "code",
   "execution_count": 6,
   "metadata": {},
   "outputs": [],
   "source": [
    "def parse_dict():\n",
    "    with open(path, mode=\"r\") as f:\n",
    "        lines = f.readlines()\n",
    "    lines = [l.strip().split(\" \") for l in lines]\n",
    "    lines = [l for l in lines if len(l) > 2]\n",
    "    text = [l[0] for l in lines]\n",
    "    phones = [ list(map(str.lower,l[2:])) for l in lines]\n",
    "    return text, phones"
   ]
  },
  {
   "cell_type": "code",
   "execution_count": 7,
   "metadata": {},
   "outputs": [],
   "source": [
    "text, phones = parse_dict()"
   ]
  },
  {
   "cell_type": "code",
   "execution_count": 8,
   "metadata": {},
   "outputs": [],
   "source": [
    "text = text[62:]\n",
    "phones = phones[62:]"
   ]
  },
  {
   "cell_type": "code",
   "execution_count": 9,
   "metadata": {},
   "outputs": [],
   "source": [
    "def make_features(word, window=WINDOW):\n",
    "    n = len(word)\n",
    "    word = '-' * (window//2) + word + '+' * (window//2)\n",
    "    x = [ list(map(ord, list(word[i:window+i].lower()))) for i in range(n)]\n",
    "    return x\n",
    "\n",
    "def get_dataset(text,phones):\n",
    "    x = []\n",
    "    y = []\n",
    "    for word, phone in zip(text, phones):\n",
    "        x_cur = make_features(word)\n",
    "        x.extend(x_cur)\n",
    "        y.extend(phone)\n",
    "    return np.array(x),np.array(y)"
   ]
  },
  {
   "cell_type": "code",
   "execution_count": 10,
   "metadata": {},
   "outputs": [],
   "source": [
    "x,y = get_dataset(text,phones)"
   ]
  },
  {
   "cell_type": "markdown",
   "metadata": {},
   "source": [
    "### Train test split"
   ]
  },
  {
   "cell_type": "code",
   "execution_count": 11,
   "metadata": {},
   "outputs": [],
   "source": [
    "from sklearn.model_selection import train_test_split"
   ]
  },
  {
   "cell_type": "code",
   "execution_count": 12,
   "metadata": {},
   "outputs": [],
   "source": [
    "X_train, X_test, y_train, y_test = train_test_split(x, y, test_size=0.33, random_state=42)"
   ]
  },
  {
   "cell_type": "markdown",
   "metadata": {},
   "source": [
    "### Decision Tree"
   ]
  },
  {
   "cell_type": "code",
   "execution_count": 13,
   "metadata": {},
   "outputs": [],
   "source": [
    "from sklearn import tree"
   ]
  },
  {
   "cell_type": "code",
   "execution_count": 14,
   "metadata": {},
   "outputs": [],
   "source": [
    "clf = tree.DecisionTreeClassifier(class_weight='balanced')\n",
    "clf = clf.fit(X_train, y_train)"
   ]
  },
  {
   "cell_type": "code",
   "execution_count": 15,
   "metadata": {},
   "outputs": [
    {
     "data": {
      "text/plain": [
       "0.8674175623065917"
      ]
     },
     "execution_count": 15,
     "metadata": {},
     "output_type": "execute_result"
    }
   ],
   "source": [
    "clf.score(X_test, y_test)"
   ]
  },
  {
   "cell_type": "code",
   "execution_count": 16,
   "metadata": {},
   "outputs": [],
   "source": [
    "clf = clf.fit(x,y)"
   ]
  },
  {
   "cell_type": "markdown",
   "metadata": {},
   "source": [
    "###  Prediction"
   ]
  },
  {
   "cell_type": "code",
   "execution_count": 17,
   "metadata": {},
   "outputs": [],
   "source": [
    "def predict(word):\n",
    "    features = make_features(word)\n",
    "    prediction = clf.predict(features)\n",
    "    return np.delete(prediction, np.where(prediction == '_'))"
   ]
  },
  {
   "cell_type": "code",
   "execution_count": 18,
   "metadata": {},
   "outputs": [
    {
     "data": {
      "text/plain": [
       "array(['hh', 'eh', 'l', 'ow'], dtype='<U2')"
      ]
     },
     "execution_count": 18,
     "metadata": {},
     "output_type": "execute_result"
    }
   ],
   "source": [
    "test = 'hello'\n",
    "predict(test)"
   ]
  },
  {
   "cell_type": "markdown",
   "metadata": {},
   "source": [
    "## Audio generation"
   ]
  },
  {
   "cell_type": "code",
   "execution_count": 19,
   "metadata": {},
   "outputs": [],
   "source": [
    "import pandas as pd"
   ]
  },
  {
   "cell_type": "code",
   "execution_count": 20,
   "metadata": {},
   "outputs": [],
   "source": [
    "diphones_timings_path = data_path + 'diphones_timings.csv'"
   ]
  },
  {
   "cell_type": "code",
   "execution_count": 21,
   "metadata": {},
   "outputs": [],
   "source": [
    "timings =  pd.read_csv(diphones_timings_path)"
   ]
  },
  {
   "cell_type": "code",
   "execution_count": 22,
   "metadata": {},
   "outputs": [
    {
     "data": {
      "text/html": [
       "<div>\n",
       "<style scoped>\n",
       "    .dataframe tbody tr th:only-of-type {\n",
       "        vertical-align: middle;\n",
       "    }\n",
       "\n",
       "    .dataframe tbody tr th {\n",
       "        vertical-align: top;\n",
       "    }\n",
       "\n",
       "    .dataframe thead th {\n",
       "        text-align: right;\n",
       "    }\n",
       "</style>\n",
       "<table border=\"1\" class=\"dataframe\">\n",
       "  <thead>\n",
       "    <tr style=\"text-align: right;\">\n",
       "      <th></th>\n",
       "      <th>ph1</th>\n",
       "      <th>ph2</th>\n",
       "      <th>wav</th>\n",
       "      <th>start</th>\n",
       "      <th>middle</th>\n",
       "      <th>end</th>\n",
       "    </tr>\n",
       "  </thead>\n",
       "  <tbody>\n",
       "    <tr>\n",
       "      <th>0</th>\n",
       "      <td>pau</td>\n",
       "      <td>pau</td>\n",
       "      <td>kal_1349</td>\n",
       "      <td>1.0150</td>\n",
       "      <td>1.315</td>\n",
       "      <td>1.3650</td>\n",
       "    </tr>\n",
       "    <tr>\n",
       "      <th>1</th>\n",
       "      <td>uw</td>\n",
       "      <td>pau</td>\n",
       "      <td>kal_1348</td>\n",
       "      <td>0.9300</td>\n",
       "      <td>1.040</td>\n",
       "      <td>1.5150</td>\n",
       "    </tr>\n",
       "    <tr>\n",
       "      <th>2</th>\n",
       "      <td>uh</td>\n",
       "      <td>pau</td>\n",
       "      <td>kal_1347</td>\n",
       "      <td>0.7075</td>\n",
       "      <td>0.825</td>\n",
       "      <td>1.3700</td>\n",
       "    </tr>\n",
       "    <tr>\n",
       "      <th>3</th>\n",
       "      <td>oy</td>\n",
       "      <td>pau</td>\n",
       "      <td>kal_1346</td>\n",
       "      <td>0.5950</td>\n",
       "      <td>0.710</td>\n",
       "      <td>1.0625</td>\n",
       "    </tr>\n",
       "    <tr>\n",
       "      <th>4</th>\n",
       "      <td>ow</td>\n",
       "      <td>pau</td>\n",
       "      <td>kal_1345</td>\n",
       "      <td>0.7100</td>\n",
       "      <td>0.825</td>\n",
       "      <td>1.2800</td>\n",
       "    </tr>\n",
       "  </tbody>\n",
       "</table>\n",
       "</div>"
      ],
      "text/plain": [
       "   ph1  ph2       wav   start  middle     end\n",
       "0  pau  pau  kal_1349  1.0150   1.315  1.3650\n",
       "1   uw  pau  kal_1348  0.9300   1.040  1.5150\n",
       "2   uh  pau  kal_1347  0.7075   0.825  1.3700\n",
       "3   oy  pau  kal_1346  0.5950   0.710  1.0625\n",
       "4   ow  pau  kal_1345  0.7100   0.825  1.2800"
      ]
     },
     "execution_count": 22,
     "metadata": {},
     "output_type": "execute_result"
    }
   ],
   "source": [
    "timings.head()"
   ]
  },
  {
   "cell_type": "code",
   "execution_count": 23,
   "metadata": {},
   "outputs": [],
   "source": [
    "def find_pair(ph1, ph2, df=timings):\n",
    "    return df[(df.ph1 == ph1) & (df.ph2 == ph2)]"
   ]
  },
  {
   "cell_type": "code",
   "execution_count": 24,
   "metadata": {},
   "outputs": [],
   "source": [
    "def get_word_wavs_timings(phonemes):\n",
    "    final = pd.DataFrame()\n",
    "    for i in range(len(phonemes)-1):\n",
    "        final = pd.concat([final,find_pair(phonemes[i],phonemes[i+1])]) \n",
    "        \n",
    "    last = final.iloc[-1].copy()\n",
    "    last['start'] = last['middle'] \n",
    "    last['ph1'] = last['ph2']\n",
    "    last['ph2'] = '-'\n",
    "    \n",
    "    final = final.append(last)\n",
    "    return final.reset_index()"
   ]
  },
  {
   "cell_type": "code",
   "execution_count": 42,
   "metadata": {},
   "outputs": [],
   "source": [
    "from scipy.io import wavfile\n",
    "from scipy import signal"
   ]
  },
  {
   "cell_type": "code",
   "execution_count": 319,
   "metadata": {},
   "outputs": [],
   "source": [
    "def create_wav_word(timings,filter_params):       \n",
    "    wavs = []\n",
    "    samplerate = 0\n",
    "    for index, row in timings.iterrows():\n",
    "        rate, data = wavfile.read(data_path + 'wav/' +row['wav'] + '.wav')\n",
    "        samplerate = rate\n",
    "    \n",
    "        start = int((rate * row['start']))\n",
    "        end = int((rate * row['end']))\n",
    "        if filter_params is None:\n",
    "            data = data[start:end]\n",
    "        else:\n",
    "            data = signal.lfilter(filter_params[0], filter_params[1], data[start:end])\n",
    "        wavs.extend(data)\n",
    "    return wavs, samplerate"
   ]
  },
  {
   "cell_type": "code",
   "execution_count": 320,
   "metadata": {},
   "outputs": [],
   "source": [
    "from nltk.tokenize import word_tokenize\n",
    "from num2words import num2words\n",
    "import re,string\n"
   ]
  },
  {
   "cell_type": "code",
   "execution_count": 326,
   "metadata": {},
   "outputs": [],
   "source": [
    "def text_to_speech(text,filter_params=None):\n",
    "#     tokens = word_tokenize(text)\n",
    "    tokens = []\n",
    "    for word in text.split():\n",
    "        word.strip(string.punctuation)\n",
    "        try:\n",
    "            num = float(word) \n",
    "            tokens.extend(num2words(num).split(' '))\n",
    "        except:\n",
    "            tokens.append(word)\n",
    "        \n",
    "    wav_data= []\n",
    "    samplerate = 0\n",
    "    for token in tokens:\n",
    "        phonemes = predict(token)\n",
    "        word_timings = get_word_wavs_timings(phonemes)\n",
    "        data, rate = create_wav_word(word_timings,filter_params)\n",
    "        wav_data.extend(data)\n",
    "\n",
    "        samplerate = rate\n",
    "    return np.array(wav_data), samplerate"
   ]
  },
  {
   "cell_type": "code",
   "execution_count": 327,
   "metadata": {},
   "outputs": [],
   "source": [
    "text = \"It costs 120.1 dollars\"\n",
    "# params = (signal.firwin(10, [10,10000], nyq=48000/2, pass_zero=False), [1,])\n",
    "# b, a = signal.cheby1(8, 100, 0.8)\n",
    "output, rate = text_to_speech(text)\n",
    "wavfile.write(data_path + 'output.wav',rate,output)"
   ]
  },
  {
   "cell_type": "code",
   "execution_count": 316,
   "metadata": {},
   "outputs": [],
   "source": [
    "from matplotlib import pyplot as plt"
   ]
  },
  {
   "cell_type": "code",
   "execution_count": 324,
   "metadata": {},
   "outputs": [],
   "source": [
    "def plot_wav(data):\n",
    "    x = np.arange(len(data))\n",
    "    plt.plot(x,data)\n",
    "    plt.show()\n",
    "    "
   ]
  },
  {
   "cell_type": "code",
   "execution_count": 325,
   "metadata": {},
   "outputs": [
    {
     "data": {
      "image/png": "[encoded data removed]",
      "text/plain": [
       "<Figure size 432x288 with 1 Axes>"
      ]
     },
     "metadata": {
      "needs_background": "light"
     },
     "output_type": "display_data"
    }
   ],
   "source": [
    "plot_wav(output)\n"
   ]
  },
  {
   "cell_type": "code",
   "execution_count": null,
   "metadata": {},
   "outputs": [],
   "source": []
  },
  {
   "cell_type": "code",
   "execution_count": null,
   "metadata": {},
   "outputs": [],
   "source": []
  }
 ],
 "metadata": {
  "kernelspec": {
   "display_name": "Python 3",
   "language": "python",
   "name": "python3"
  },
  "language_info": {
   "codemirror_mode": {
    "name": "ipython",
    "version": 3
   },
   "file_extension": ".py",
   "mimetype": "text/x-python",
   "name": "python",
   "nbconvert_exporter": "python",
   "pygments_lexer": "ipython3",
   "version": "3.7.6"
  }
 },
 "nbformat": 4,
 "nbformat_minor": 2
}
