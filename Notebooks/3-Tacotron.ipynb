{
 "nbformat": 4,
 "nbformat_minor": 2,
 "metadata": {
  "language_info": {
   "name": "python",
   "codemirror_mode": {
    "name": "ipython",
    "version": 3
   },
   "version": "3.7.6-final"
  },
  "orig_nbformat": 2,
  "file_extension": ".py",
  "mimetype": "text/x-python",
  "name": "python",
  "npconvert_exporter": "python",
  "pygments_lexer": "ipython3",
  "version": 3,
  "kernelspec": {
   "name": "python37664bitttscondafd9c39c802d94721bd09ffe41e9784e4",
   "display_name": "Python 3.7.6 64-bit ('tts': conda)"
  }
 },
 "cells": [
  {
   "cell_type": "code",
   "execution_count": 1,
   "metadata": {},
   "outputs": [
    {
     "output_type": "error",
     "ename": "ModuleNotFoundError",
     "evalue": "No module named 'hyperparams'",
     "traceback": [
      "\u001b[1;31m---------------------------------------------------------------------------\u001b[0m",
      "\u001b[1;31mModuleNotFoundError\u001b[0m                       Traceback (most recent call last)",
      "\u001b[1;32m<ipython-input-1-17c487d00ad6>\u001b[0m in \u001b[0;36m<module>\u001b[1;34m()\u001b[0m\n\u001b[0;32m      6\u001b[0m \u001b[1;32mimport\u001b[0m \u001b[0msys\u001b[0m\u001b[1;33m\u001b[0m\u001b[1;33m\u001b[0m\u001b[0m\n\u001b[0;32m      7\u001b[0m \u001b[0msys\u001b[0m\u001b[1;33m.\u001b[0m\u001b[0mpath\u001b[0m\u001b[1;33m.\u001b[0m\u001b[0mappend\u001b[0m\u001b[1;33m(\u001b[0m\u001b[1;34m\"..\"\u001b[0m\u001b[1;33m)\u001b[0m\u001b[1;33m\u001b[0m\u001b[1;33m\u001b[0m\u001b[0m\n\u001b[1;32m----> 8\u001b[1;33m \u001b[1;32mfrom\u001b[0m \u001b[0msrc\u001b[0m\u001b[1;33m.\u001b[0m\u001b[0mutil\u001b[0m \u001b[1;32mimport\u001b[0m \u001b[0mdata_reader\u001b[0m\u001b[1;33m\u001b[0m\u001b[1;33m\u001b[0m\u001b[0m\n\u001b[0m\u001b[0;32m      9\u001b[0m \u001b[1;32mimport\u001b[0m \u001b[0mos\u001b[0m\u001b[1;33m\u001b[0m\u001b[1;33m\u001b[0m\u001b[0m\n",
      "\u001b[1;32md:\\Dev\\ML\\TTS\\src\\util\\data_reader.py\u001b[0m in \u001b[0;36m<module>\u001b[1;34m()\u001b[0m\n\u001b[0;32m      5\u001b[0m \u001b[1;32mimport\u001b[0m \u001b[0mos\u001b[0m\u001b[1;33m\u001b[0m\u001b[1;33m\u001b[0m\u001b[0m\n\u001b[0;32m      6\u001b[0m \u001b[1;32mfrom\u001b[0m \u001b[0mpathlib\u001b[0m \u001b[1;32mimport\u001b[0m \u001b[0mPath\u001b[0m\u001b[1;33m\u001b[0m\u001b[1;33m\u001b[0m\u001b[0m\n\u001b[1;32m----> 7\u001b[1;33m \u001b[1;32mimport\u001b[0m \u001b[0mhyperparams\u001b[0m \u001b[1;32mas\u001b[0m \u001b[0mhp\u001b[0m\u001b[1;33m\u001b[0m\u001b[1;33m\u001b[0m\u001b[0m\n\u001b[0m\u001b[0;32m      8\u001b[0m \u001b[1;33m\u001b[0m\u001b[0m\n\u001b[0;32m      9\u001b[0m \u001b[1;32mclass\u001b[0m \u001b[0mDataReader\u001b[0m\u001b[1;33m(\u001b[0m\u001b[1;33m)\u001b[0m\u001b[1;33m:\u001b[0m\u001b[1;33m\u001b[0m\u001b[1;33m\u001b[0m\u001b[0m\n",
      "\u001b[1;31mModuleNotFoundError\u001b[0m: No module named 'hyperparams'"
     ]
    }
   ],
   "source": [
    "from num2words import num2words\n",
    "import re,string\n",
    "\n",
    "import pandas as pd\n",
    "\n",
    "import sys\n",
    "sys.path.append(\"..\")\n",
    "from src.util import data_reader\n",
    "import os"
   ]
  },
  {
   "cell_type": "code",
   "execution_count": null,
   "metadata": {},
   "outputs": [],
   "source": [
    "data_path = 'D:/Dev/ML/TTS/data'"
   ]
  },
  {
   "cell_type": "code",
   "execution_count": 6,
   "metadata": {},
   "outputs": [
    {
     "output_type": "execute_result",
     "data": {
      "text/plain": "                                               wav_path  \\\n0     ../data/ru_open_stt/buriy_audiobooks_2_val/0/6...   \n1     ../data/ru_open_stt/buriy_audiobooks_2_val/f/e...   \n2     ../data/ru_open_stt/buriy_audiobooks_2_val/a/4...   \n3     ../data/ru_open_stt/buriy_audiobooks_2_val/3/c...   \n4     ../data/ru_open_stt/buriy_audiobooks_2_val/5/f...   \n...                                                 ...   \n7845  ../data/ru_open_stt/buriy_audiobooks_2_val/1/6...   \n7846  ../data/ru_open_stt/buriy_audiobooks_2_val/2/8...   \n7847  ../data/ru_open_stt/buriy_audiobooks_2_val/7/f...   \n7848  ../data/ru_open_stt/buriy_audiobooks_2_val/2/9...   \n7849  ../data/ru_open_stt/buriy_audiobooks_2_val/3/d...   \n\n                                              text_path  duration  \n0     ../data/ru_open_stt/buriy_audiobooks_2_val/0/6...      0.32  \n1     ../data/ru_open_stt/buriy_audiobooks_2_val/f/e...      0.34  \n2     ../data/ru_open_stt/buriy_audiobooks_2_val/a/4...      0.34  \n3     ../data/ru_open_stt/buriy_audiobooks_2_val/3/c...      0.34  \n4     ../data/ru_open_stt/buriy_audiobooks_2_val/5/f...      0.35  \n...                                                 ...       ...  \n7845  ../data/ru_open_stt/buriy_audiobooks_2_val/1/6...     16.76  \n7846  ../data/ru_open_stt/buriy_audiobooks_2_val/2/8...     17.27  \n7847  ../data/ru_open_stt/buriy_audiobooks_2_val/7/f...     17.97  \n7848  ../data/ru_open_stt/buriy_audiobooks_2_val/2/9...     18.35  \n7849  ../data/ru_open_stt/buriy_audiobooks_2_val/3/d...     21.69  \n\n[7850 rows x 3 columns]",
      "text/html": "<div>\n<style scoped>\n    .dataframe tbody tr th:only-of-type {\n        vertical-align: middle;\n    }\n\n    .dataframe tbody tr th {\n        vertical-align: top;\n    }\n\n    .dataframe thead th {\n        text-align: right;\n    }\n</style>\n<table border=\"1\" class=\"dataframe\">\n  <thead>\n    <tr style=\"text-align: right;\">\n      <th></th>\n      <th>wav_path</th>\n      <th>text_path</th>\n      <th>duration</th>\n    </tr>\n  </thead>\n  <tbody>\n    <tr>\n      <th>0</th>\n      <td>../data/ru_open_stt/buriy_audiobooks_2_val/0/6...</td>\n      <td>../data/ru_open_stt/buriy_audiobooks_2_val/0/6...</td>\n      <td>0.32</td>\n    </tr>\n    <tr>\n      <th>1</th>\n      <td>../data/ru_open_stt/buriy_audiobooks_2_val/f/e...</td>\n      <td>../data/ru_open_stt/buriy_audiobooks_2_val/f/e...</td>\n      <td>0.34</td>\n    </tr>\n    <tr>\n      <th>2</th>\n      <td>../data/ru_open_stt/buriy_audiobooks_2_val/a/4...</td>\n      <td>../data/ru_open_stt/buriy_audiobooks_2_val/a/4...</td>\n      <td>0.34</td>\n    </tr>\n    <tr>\n      <th>3</th>\n      <td>../data/ru_open_stt/buriy_audiobooks_2_val/3/c...</td>\n      <td>../data/ru_open_stt/buriy_audiobooks_2_val/3/c...</td>\n      <td>0.34</td>\n    </tr>\n    <tr>\n      <th>4</th>\n      <td>../data/ru_open_stt/buriy_audiobooks_2_val/5/f...</td>\n      <td>../data/ru_open_stt/buriy_audiobooks_2_val/5/f...</td>\n      <td>0.35</td>\n    </tr>\n    <tr>\n      <th>...</th>\n      <td>...</td>\n      <td>...</td>\n      <td>...</td>\n    </tr>\n    <tr>\n      <th>7845</th>\n      <td>../data/ru_open_stt/buriy_audiobooks_2_val/1/6...</td>\n      <td>../data/ru_open_stt/buriy_audiobooks_2_val/1/6...</td>\n      <td>16.76</td>\n    </tr>\n    <tr>\n      <th>7846</th>\n      <td>../data/ru_open_stt/buriy_audiobooks_2_val/2/8...</td>\n      <td>../data/ru_open_stt/buriy_audiobooks_2_val/2/8...</td>\n      <td>17.27</td>\n    </tr>\n    <tr>\n      <th>7847</th>\n      <td>../data/ru_open_stt/buriy_audiobooks_2_val/7/f...</td>\n      <td>../data/ru_open_stt/buriy_audiobooks_2_val/7/f...</td>\n      <td>17.97</td>\n    </tr>\n    <tr>\n      <th>7848</th>\n      <td>../data/ru_open_stt/buriy_audiobooks_2_val/2/9...</td>\n      <td>../data/ru_open_stt/buriy_audiobooks_2_val/2/9...</td>\n      <td>18.35</td>\n    </tr>\n    <tr>\n      <th>7849</th>\n      <td>../data/ru_open_stt/buriy_audiobooks_2_val/3/d...</td>\n      <td>../data/ru_open_stt/buriy_audiobooks_2_val/3/d...</td>\n      <td>21.69</td>\n    </tr>\n  </tbody>\n</table>\n<p>7850 rows × 3 columns</p>\n</div>"
     },
     "metadata": {},
     "execution_count": 6
    }
   ],
   "source": [
    "dr = data_reader.DataReader(data_path)\n",
    "dr.read_labels()"
   ]
  },
  {
   "cell_type": "code",
   "execution_count": 8,
   "metadata": {},
   "outputs": [
    {
     "output_type": "stream",
     "name": "stdout",
     "text": "Successfully extracted: [<TarInfo './buriy_audiobooks_2_val/d/ab/28118dde0ac3.wav' at 0x14bea62fa08>, <TarInfo './buriy_audiobooks_2_val/d/ab/28118dde0ac3.txt' at 0x14bea62fba8>, <TarInfo './buriy_audiobooks_2_val/c/c3/e53f2c68f039.txt' at 0x14bea6d5118>, <TarInfo './buriy_audiobooks_2_val/c/c3/e53f2c68f039.wav' at 0x14bea6d51e8>, <TarInfo './buriy_audiobooks_2_val/1/c8/d5c0bd89e41e.txt' at 0x14bea988458>, <TarInfo './buriy_audiobooks_2_val/1/c8/d5c0bd89e41e.wav' at 0x14bea9885f8>, <TarInfo './buriy_audiobooks_2_val/1/16/af15316e3c3a.txt' at 0x14bea9a6798>, <TarInfo './buriy_audiobooks_2_val/1/16/af15316e3c3a.wav' at 0x14bea9a6868>, <TarInfo './buriy_audiobooks_2_val/4/7e/64d767026d6b.txt' at 0x14beb234798>, <TarInfo './buriy_audiobooks_2_val/4/7e/64d767026d6b.wav' at 0x14beb234868>, <TarInfo './buriy_audiobooks_2_val/4/9d/e5c9028affcc.wav' at 0x14beb269d48>, <TarInfo './buriy_audiobooks_2_val/4/9d/e5c9028affcc.txt' at 0x14beb269ee8>, <TarInfo './buriy_audiobooks_2_val/a/86/c90f2cab0ee9.wav' at 0x14beb345118>, <TarInfo './buriy_audiobooks_2_val/a/86/c90f2cab0ee9.txt' at 0x14beb345388>, <TarInfo './buriy_audiobooks_2_val/a/19/22a7ddab4849.wav' at 0x14beb369e18>, <TarInfo './buriy_audiobooks_2_val/a/19/22a7ddab4849.txt' at 0x14beb369ee8>, <TarInfo './buriy_audiobooks_2_val/a/94/06dcad000839.txt' at 0x14beb396a08>, <TarInfo './buriy_audiobooks_2_val/a/94/06dcad000839.wav' at 0x14beb396ad8>, <TarInfo './buriy_audiobooks_2_val/a/44/fc184d9ab41d.txt' at 0x14beb3c6458>, <TarInfo './buriy_audiobooks_2_val/a/44/fc184d9ab41d.wav' at 0x14beb3c6528>]\n"
    },
    {
     "output_type": "execute_result",
     "data": {
      "text/plain": "[((16000, array([  -6,   12,   42, ..., 2396, 2208, 2136], dtype=int16)),\n  'точнее сказать к тому что\\n'),\n ((16000, array([ -735,  -739,  -744, ..., -1180, -1478, -1753], dtype=int16)),\n  'побрею и расширю рану а далее всё\\n'),\n ((16000, array([-1, -1, -5, ...,  1,  6, 10], dtype=int16)),\n  'давайте обнимемся на прощание\\n'),\n ((16000, array([ -392, -2041,  -564, ...,     1,     0,     0], dtype=int16)),\n  'с военным моряком\\n'),\n ((16000, array([-8192, -7331, -5917, ...,   -33,   -39,   -36], dtype=int16)),\n  'угла рта\\n'),\n ((16000, array([1909, 1887, 1688, ...,    8,    4,    3], dtype=int16)),\n  'постучали и через импровизированную переходную камеру в шишигу загрузили несколько свертков с нашими подарками\\n'),\n ((16000, array([ 37,  80,  91, ..., 473, 846, 982], dtype=int16)),\n  'как она говорит\\n'),\n ((16000, array([ -3,  -2,  -2, ..., -28, -30, -29], dtype=int16)),\n  'ясно ясно\\n'),\n ((16000, array([  4,   6,   7, ..., 116,  85,  63], dtype=int16)),\n  'тут думать нужно\\n'),\n ((16000, array([ -15,  -13,  -13, ..., 1064,   45, -292], dtype=int16)),\n  'свернул его извинился повернулся\\n')]"
     },
     "metadata": {},
     "execution_count": 8
    }
   ],
   "source": [
    "dr.extract_random_samples(10)"
   ]
  },
  {
   "cell_type": "code",
   "execution_count": 11,
   "metadata": {},
   "outputs": [],
   "source": [
    "def normalize(text):\n",
    "    text = text.translate(str.maketrans('', '', string.punctuation))\n",
    "    tokens = []\n",
    "    for word in text.split():\n",
    "        word.strip(string.punctuation)\n",
    "        try:\n",
    "            num = float(word) \n",
    "            tokens.extend(num2words(num).split(' '))\n",
    "        except:\n",
    "            tokens.append(word)\n",
    "    return tokens\n",
    "    "
   ]
  },
  {
   "cell_type": "code",
   "execution_count": 21,
   "metadata": {},
   "outputs": [
    {
     "data": {
      "text/plain": "['hello', 'whats', 'up', 'one', 'two', 'two', 'plus', 'four']"
     },
     "execution_count": 21,
     "metadata": {},
     "output_type": "execute_result"
    }
   ],
   "source": [
    "a = '..hello whats up,! ~ @ #1 $ %^&*(2)_+- 2 plus 4'\n",
    "normalize(a)"
   ]
  },
  {
   "cell_type": "code",
   "execution_count": null,
   "metadata": {},
   "outputs": [],
   "source": []
  }
 ]
}